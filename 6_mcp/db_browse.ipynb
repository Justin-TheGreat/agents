{
 "cells": [
  {
   "cell_type": "code",
   "execution_count": 1,
   "id": "a90de88e",
   "metadata": {},
   "outputs": [
    {
     "name": "stdout",
     "output_type": "stream",
     "text": [
      "Tables in database:\n",
      "entities\n",
      "observations\n",
      "sqlite_sequence\n",
      "relations\n",
      "libsql_vector_meta_shadow\n",
      "idx_entities_embedding_shadow\n"
     ]
    }
   ],
   "source": [
    "import sqlite3\n",
    "\n",
    "# Connect to an existing database (or create one if it doesn't exist)\n",
    "conn = sqlite3.connect(\"./memory/justin.db\")\n",
    "\n",
    "# Create a cursor object to interact with the database\n",
    "cursor = conn.cursor()\n",
    "\n",
    "cursor.execute(\"SELECT name FROM sqlite_master WHERE type='table';\")\n",
    "tables = cursor.fetchall()\n",
    "\n",
    "# Print all tables\n",
    "print(\"Tables in database:\")\n",
    "for table in tables:\n",
    "    print(table[0])\n",
    "\n",
    "conn.close()\n"
   ]
  },
  {
   "cell_type": "code",
   "execution_count": 11,
   "id": "e8626477",
   "metadata": {},
   "outputs": [
    {
     "name": "stdout",
     "output_type": "stream",
     "text": [
      "('idx_entities_embedding', b'\\x01\\x02\\x00\\x00\\x00\\x00\\x00\\x00\\x00\\x03\\x01\\x00\\x00\\x00\\x00\\x00\\x00\\x00\\x04\\x04\\x00\\x00\\x00\\x00\\x00\\x00\\x00\\x02\\x01\\x00\\x00\\x00\\x00\\x00\\x00\\x00\\x05\\x01\\x00\\x00\\x00\\x00\\x00\\x00\\x00\\x06:\\x01\\x00\\x00\\x00\\x00\\x00\\x00\\x07333333\\xf3?\\x08F\\x00\\x00\\x00\\x00\\x00\\x00\\x00\\t\\xc8\\x00\\x00\\x00\\x00\\x00\\x00\\x00')\n"
     ]
    }
   ],
   "source": [
    "conn = sqlite3.connect(\"./memory/justin.db\")\n",
    "cursor = conn.cursor()\n",
    "\n",
    "cursor.execute(\"SELECT * FROM libsql_vector_meta_shadow;\")\n",
    "tables = cursor.fetchall()\n",
    "\n",
    "for table in tables:\n",
    "    print(table)\n",
    "\n",
    "conn.close()"
   ]
  }
 ],
 "metadata": {
  "kernelspec": {
   "display_name": "ai",
   "language": "python",
   "name": "python3"
  },
  "language_info": {
   "codemirror_mode": {
    "name": "ipython",
    "version": 3
   },
   "file_extension": ".py",
   "mimetype": "text/x-python",
   "name": "python",
   "nbconvert_exporter": "python",
   "pygments_lexer": "ipython3",
   "version": "3.12.11"
  }
 },
 "nbformat": 4,
 "nbformat_minor": 5
}
